{
  "nbformat": 4,
  "nbformat_minor": 0,
  "metadata": {
    "colab": {
      "name": "Untitled6.ipynb",
      "provenance": []
    },
    "kernelspec": {
      "name": "python3",
      "display_name": "Python 3"
    },
    "accelerator": "GPU"
  },
  "cells": [
    {
      "cell_type": "markdown",
      "metadata": {
        "id": "dLp8at7D7QJQ"
      },
      "source": [
        "Sentiment Analysis For Amazon Reviews"
      ]
    },
    {
      "cell_type": "markdown",
      "metadata": {
        "id": "VQ8spHLp7UQH"
      },
      "source": [
        "Importing the libraries"
      ]
    },
    {
      "cell_type": "code",
      "metadata": {
        "id": "yDUgzynI7TIa"
      },
      "source": [
        "import numpy as np\r\n",
        "import matplotlib.pyplot as plt\r\n",
        "import pandas as pd\r\n",
        "import random"
      ],
      "execution_count": 1,
      "outputs": []
    },
    {
      "cell_type": "markdown",
      "metadata": {
        "id": "maOotfpS7bfe"
      },
      "source": [
        "Importing Dataset"
      ]
    },
    {
      "cell_type": "code",
      "metadata": {
        "colab": {
          "base_uri": "https://localhost:8080/"
        },
        "id": "juxuYLol7MZ7",
        "outputId": "540ade38-2778-49a8-bdf4-7dafe35ddd80"
      },
      "source": [
        "dataset = pd.read_csv('1429_1.csv')\r\n",
        "\r\n",
        "# Taking only useful data from dataset\r\n",
        "dataset = dataset.iloc[:,[17,16,14,11]].values"
      ],
      "execution_count": 2,
      "outputs": [
        {
          "output_type": "stream",
          "text": [
            "/usr/local/lib/python3.6/dist-packages/IPython/core/interactiveshell.py:2718: DtypeWarning: Columns (1,10) have mixed types.Specify dtype option on import or set low_memory=False.\n",
            "  interactivity=interactivity, compiler=compiler, result=result)\n"
          ],
          "name": "stderr"
        }
      ]
    },
    {
      "cell_type": "markdown",
      "metadata": {
        "id": "uKX1Kkp5CUie"
      },
      "source": [
        "Taking Care of missing data"
      ]
    },
    {
      "cell_type": "code",
      "metadata": {
        "id": "CfMcmruWCYXL"
      },
      "source": [
        "# Discarding observations having missing data\r\n",
        "data = pd.DataFrame(dataset)\r\n",
        "dataset = data.dropna(axis = 0,how = 'any')\r\n",
        "X = dataset.iloc[:, :-1].values\r\n",
        "\r\n",
        "# Storing rating saperately to use it later \r\n",
        "rating = X[:,-1]\r\n",
        "\r\n",
        "y = dataset.iloc[:, -1].values\r\n",
        "\r\n",
        "# Encoding True/False value as 1/0\r\n",
        "from sklearn.preprocessing import LabelEncoder\r\n",
        "le = LabelEncoder()\r\n",
        "y = le.fit_transform(y)"
      ],
      "execution_count": 3,
      "outputs": []
    },
    {
      "cell_type": "markdown",
      "metadata": {
        "id": "4Oq6t6YAUKF7"
      },
      "source": [
        "Visualizing Dataset"
      ]
    },
    {
      "cell_type": "code",
      "metadata": {
        "colab": {
          "base_uri": "https://localhost:8080/",
          "height": 402
        },
        "id": "p46BUS1NUM9c",
        "outputId": "463d7777-8b77-4f48-adcd-10ce0b0b5a07"
      },
      "source": [
        "dataset.head(-1)"
      ],
      "execution_count": 4,
      "outputs": [
        {
          "output_type": "execute_result",
          "data": {
            "text/html": [
              "<div>\n",
              "<style scoped>\n",
              "    .dataframe tbody tr th:only-of-type {\n",
              "        vertical-align: middle;\n",
              "    }\n",
              "\n",
              "    .dataframe tbody tr th {\n",
              "        vertical-align: top;\n",
              "    }\n",
              "\n",
              "    .dataframe thead th {\n",
              "        text-align: right;\n",
              "    }\n",
              "</style>\n",
              "<table border=\"1\" class=\"dataframe\">\n",
              "  <thead>\n",
              "    <tr style=\"text-align: right;\">\n",
              "      <th></th>\n",
              "      <th>0</th>\n",
              "      <th>1</th>\n",
              "      <th>2</th>\n",
              "      <th>3</th>\n",
              "    </tr>\n",
              "  </thead>\n",
              "  <tbody>\n",
              "    <tr>\n",
              "      <th>0</th>\n",
              "      <td>Kindle</td>\n",
              "      <td>This product so far has not disappointed. My c...</td>\n",
              "      <td>5</td>\n",
              "      <td>True</td>\n",
              "    </tr>\n",
              "    <tr>\n",
              "      <th>1</th>\n",
              "      <td>very fast</td>\n",
              "      <td>great for beginner or experienced person. Boug...</td>\n",
              "      <td>5</td>\n",
              "      <td>True</td>\n",
              "    </tr>\n",
              "    <tr>\n",
              "      <th>2</th>\n",
              "      <td>Beginner tablet for our 9 year old son.</td>\n",
              "      <td>Inexpensive tablet for him to use and learn on...</td>\n",
              "      <td>5</td>\n",
              "      <td>True</td>\n",
              "    </tr>\n",
              "    <tr>\n",
              "      <th>3</th>\n",
              "      <td>Good!!!</td>\n",
              "      <td>I've had my Fire HD 8 two weeks now and I love...</td>\n",
              "      <td>4</td>\n",
              "      <td>True</td>\n",
              "    </tr>\n",
              "    <tr>\n",
              "      <th>4</th>\n",
              "      <td>Fantastic Tablet for kids</td>\n",
              "      <td>I bought this for my grand daughter when she c...</td>\n",
              "      <td>5</td>\n",
              "      <td>True</td>\n",
              "    </tr>\n",
              "    <tr>\n",
              "      <th>...</th>\n",
              "      <td>...</td>\n",
              "      <td>...</td>\n",
              "      <td>...</td>\n",
              "      <td>...</td>\n",
              "    </tr>\n",
              "    <tr>\n",
              "      <th>34619</th>\n",
              "      <td>Wonderful unit</td>\n",
              "      <td>Can use it for best streaming. Can watch all t...</td>\n",
              "      <td>5</td>\n",
              "      <td>True</td>\n",
              "    </tr>\n",
              "    <tr>\n",
              "      <th>34620</th>\n",
              "      <td>Works great</td>\n",
              "      <td>I am now able to stream tv and movies from aro...</td>\n",
              "      <td>4</td>\n",
              "      <td>True</td>\n",
              "    </tr>\n",
              "    <tr>\n",
              "      <th>34621</th>\n",
              "      <td>the best</td>\n",
              "      <td>best streaming device , very portable , amazin...</td>\n",
              "      <td>5</td>\n",
              "      <td>False</td>\n",
              "    </tr>\n",
              "    <tr>\n",
              "      <th>34622</th>\n",
              "      <td>Love it</td>\n",
              "      <td>Simply the best to watch tv series and movies....</td>\n",
              "      <td>5</td>\n",
              "      <td>True</td>\n",
              "    </tr>\n",
              "    <tr>\n",
              "      <th>34623</th>\n",
              "      <td>Try it, you will like it</td>\n",
              "      <td>I was looking for ways to cut cost from a rais...</td>\n",
              "      <td>4</td>\n",
              "      <td>True</td>\n",
              "    </tr>\n",
              "  </tbody>\n",
              "</table>\n",
              "<p>34061 rows × 4 columns</p>\n",
              "</div>"
            ],
            "text/plain": [
              "                                             0  ...      3\n",
              "0                                       Kindle  ...   True\n",
              "1                                    very fast  ...   True\n",
              "2      Beginner tablet for our 9 year old son.  ...   True\n",
              "3                                      Good!!!  ...   True\n",
              "4                    Fantastic Tablet for kids  ...   True\n",
              "...                                        ...  ...    ...\n",
              "34619                           Wonderful unit  ...   True\n",
              "34620                              Works great  ...   True\n",
              "34621                                 the best  ...  False\n",
              "34622                                  Love it  ...   True\n",
              "34623                 Try it, you will like it  ...   True\n",
              "\n",
              "[34061 rows x 4 columns]"
            ]
          },
          "metadata": {
            "tags": []
          },
          "execution_count": 4
        }
      ]
    },
    {
      "cell_type": "code",
      "metadata": {
        "colab": {
          "base_uri": "https://localhost:8080/"
        },
        "id": "acrrCXf6VW0d",
        "outputId": "3a9f3892-2cc8-405b-ff22-fcafc368e1a8"
      },
      "source": [
        "print(X)\r\n",
        "print(y)"
      ],
      "execution_count": 5,
      "outputs": [
        {
          "output_type": "stream",
          "text": [
            "[['Kindle'\n",
            "  'This product so far has not disappointed. My children love to use it and I like the ability to monitor control what content they see with ease.'\n",
            "  5.0]\n",
            " ['very fast'\n",
            "  'great for beginner or experienced person. Bought as a gift and she loves it'\n",
            "  5.0]\n",
            " ['Beginner tablet for our 9 year old son.'\n",
            "  'Inexpensive tablet for him to use and learn on, step up from the NABI. He was thrilled with it, learn how to Skype on it already...'\n",
            "  5.0]\n",
            " ...\n",
            " ['Love it'\n",
            "  'Simply the best to watch tv series and movies. It works even better if you are an Amazon Prime subscriber, with access to a many free goodies.'\n",
            "  5.0]\n",
            " ['Try it, you will like it'\n",
            "  'I was looking for ways to cut cost from a raising cable bill and a friend suggested I try the Amazon Fire. At first I didn���t know if this was something I could do. Once I was able to maneuver through the process, I love it.'\n",
            "  4.0]\n",
            " ['Great little device'\n",
            "  'I enjoy my kindle tv, it beats paying for cable every month ������'\n",
            "  4.0]]\n",
            "[1 1 1 ... 1 1 1]\n"
          ],
          "name": "stdout"
        }
      ]
    },
    {
      "cell_type": "markdown",
      "metadata": {
        "id": "MXXywmkO7O_c"
      },
      "source": [
        "Cleaning the Dataset"
      ]
    },
    {
      "cell_type": "code",
      "metadata": {
        "colab": {
          "base_uri": "https://localhost:8080/"
        },
        "id": "iGQWQgz1nwtn",
        "outputId": "093eec94-aedf-4824-cb61-e068c0322469"
      },
      "source": [
        "import re\r\n",
        "import nltk\r\n",
        "# Downloading stopwords which does not having much significance\r\n",
        "nltk.download('stopwords')\r\n",
        "from nltk.corpus import stopwords\r\n",
        "\r\n",
        "# Stemmer will reduce words in their root form\r\n",
        "from nltk.stem.porter import PorterStemmer\r\n",
        "ps = PorterStemmer()\r\n",
        "all_stopwords = stopwords.words('english')\r\n",
        "\r\n",
        "# Removing some stopwords which have significance effect in building this model\r\n",
        "rem = ['not', 'ain', 'aren', \"aren't\", 'couldn', \"couldn't\", 'didn', \"didn't\", 'doesn', \"doesn't\", 'hadn', \"hadn't\", 'hasn', \r\n",
        "       \"hasn't\", 'haven', \"haven't\", 'isn', \"isn't\", 'ma', 'mightn', \"mightn't\", 'mustn', \"mustn't\", 'needn', \"needn't\", 'shan', \r\n",
        "       \"shan't\", 'shouldn', \"shouldn't\", 'wasn', \"wasn't\", 'weren', \"weren't\", 'won', \"won't\", 'wouldn', \"wouldn't\", 'don', \"don't\", \r\n",
        "       'just', 'too', 'very', 'no', 'nor', 'only', 'own', 'same', 'again', 'against', 'but',]\r\n",
        "for s in rem:\r\n",
        "  all_stopwords.remove(s)\r\n",
        "\r\n",
        "def find_clean_text(temp):\r\n",
        "  # Removing all characters other than alphabet\r\n",
        "  temp = re.sub('[^a-zA-Z]', ' ', temp)\r\n",
        "  temp = temp.lower()\r\n",
        "  temp = temp.split()\r\n",
        "  temp = [ps.stem(word) for word in temp if not word in set(all_stopwords)]\r\n",
        "  temp = ' '.join(temp)\r\n",
        "  return temp"
      ],
      "execution_count": 6,
      "outputs": [
        {
          "output_type": "stream",
          "text": [
            "[nltk_data] Downloading package stopwords to /root/nltk_data...\n",
            "[nltk_data]   Package stopwords is already up-to-date!\n"
          ],
          "name": "stdout"
        }
      ]
    },
    {
      "cell_type": "code",
      "metadata": {
        "id": "w-fxeQt18PRG"
      },
      "source": [
        "corpus = []\r\n",
        "for i in range(X.shape[0]):\r\n",
        "  # Concatanating both title and detailed review\r\n",
        "  temp = X[i][0] + ' ' + X[i][1]\r\n",
        "  temp = find_clean_text(temp)\r\n",
        "  corpus.append(temp)"
      ],
      "execution_count": 7,
      "outputs": []
    },
    {
      "cell_type": "markdown",
      "metadata": {
        "id": "_HuxS5CR_06t"
      },
      "source": [
        "Creating the Bag of Words model"
      ]
    },
    {
      "cell_type": "code",
      "metadata": {
        "id": "NswUCbBP_1q-"
      },
      "source": [
        "from sklearn.feature_extraction.text import CountVectorizer\r\n",
        "cv = CountVectorizer(max_features = 3000)\r\n",
        "X = cv.fit_transform(corpus).toarray()\r\n",
        "\r\n",
        "# Adding rating in the matrix of feature X\r\n",
        "rating = rating.reshape(rating.shape[0],1)\r\n",
        "X = np.append(X,rating,axis=1)"
      ],
      "execution_count": 8,
      "outputs": []
    },
    {
      "cell_type": "markdown",
      "metadata": {
        "id": "Jdm2kv26_5LH"
      },
      "source": [
        "Splitting the dataset into the Training set and Test set"
      ]
    },
    {
      "cell_type": "code",
      "metadata": {
        "id": "VKzzWTNx_9Em"
      },
      "source": [
        "# Splitting dataset into test set and train set which have equal percentage of data with both positive and negative review\r\n",
        "#This is done as precautionary measure considering that very small number (approx 1300 out of 34000) data have negative review.\r\n",
        "pos_x = []\r\n",
        "pos_y = []\r\n",
        "neg_x = []\r\n",
        "neg_y = []\r\n",
        "for i in range(X.shape[0]):\r\n",
        "  if y[i]==1:\r\n",
        "    pos_x.append(X[i])\r\n",
        "    pos_y.append(y[i])\r\n",
        "  else:\r\n",
        "    neg_x.append(X[i])\r\n",
        "    neg_y.append(y[i])\r\n",
        "\r\n",
        "from sklearn.model_selection import train_test_split\r\n",
        "X_train1, X_test1, y_train1, y_test1 = train_test_split(pos_x, pos_y, test_size = 0.20)\r\n",
        "X_train, X_test, y_train, y_test = train_test_split(neg_x, neg_y, test_size = 0.20)\r\n",
        "\r\n",
        "for i in range(len(X_train1)):\r\n",
        "  X_train.append(X_train1[i])\r\n",
        "  y_train.append(y_train1[i])\r\n",
        "for i in range(len(X_test1)):\r\n",
        "  X_test.append(X_test1[i])\r\n",
        "  y_test.append(y_test1[i])\r\n",
        "X_train = np.array(X_train)\r\n",
        "X_test = np.array(X_test)\r\n",
        "y_train = np.array(y_train)\r\n",
        "y_test = np.array(y_test)"
      ],
      "execution_count": 9,
      "outputs": []
    },
    {
      "cell_type": "markdown",
      "metadata": {
        "id": "QA1fapgLAGvm"
      },
      "source": [
        "Training the Multinomial Naive Bayes model on the Training set"
      ]
    },
    {
      "cell_type": "code",
      "metadata": {
        "colab": {
          "base_uri": "https://localhost:8080/"
        },
        "id": "aDIq9iesAHku",
        "outputId": "581c4f87-df13-4ffc-8f04-5a51d0220c50"
      },
      "source": [
        "from sklearn.naive_bayes import MultinomialNB\r\n",
        "classifier = MultinomialNB()\r\n",
        "classifier.fit(X_train, y_train)"
      ],
      "execution_count": 10,
      "outputs": [
        {
          "output_type": "execute_result",
          "data": {
            "text/plain": [
              "MultinomialNB(alpha=1.0, class_prior=None, fit_prior=True)"
            ]
          },
          "metadata": {
            "tags": []
          },
          "execution_count": 10
        }
      ]
    },
    {
      "cell_type": "markdown",
      "metadata": {
        "id": "ODbV2QDMAP1i"
      },
      "source": [
        "Making the Confusion Matrix"
      ]
    },
    {
      "cell_type": "code",
      "metadata": {
        "colab": {
          "base_uri": "https://localhost:8080/"
        },
        "id": "2Ro9AU5XASV0",
        "outputId": "a2c23ab0-ccf3-42e8-91a3-5568aacf0107"
      },
      "source": [
        "from sklearn.metrics import confusion_matrix, accuracy_score\r\n",
        "\r\n",
        "print('Result on training set :')\r\n",
        "print('Confusion matrix :')\r\n",
        "print(confusion_matrix(y_train,classifier.predict(X_train)))\r\n",
        "print('accuracy : ',accuracy_score(y_train, classifier.predict(X_train)))\r\n",
        "\r\n",
        "print('Result on test set :')\r\n",
        "y_pred = classifier.predict(X_test)\r\n",
        "print('Confusion matrix :')\r\n",
        "print(confusion_matrix(y_test, y_pred))\r\n",
        "print('accuracy',accuracy_score(y_test, y_pred))"
      ],
      "execution_count": 11,
      "outputs": [
        {
          "output_type": "stream",
          "text": [
            "Result on training set :\n",
            "Confusion matrix :\n",
            "[[  780   327]\n",
            " [  902 25240]]\n",
            "accuracy :  0.9548974274285295\n",
            "Result on test set :\n",
            "Confusion matrix :\n",
            "[[ 176  101]\n",
            " [ 227 6309]]\n",
            "accuracy 0.9518567444591223\n"
          ],
          "name": "stdout"
        }
      ]
    },
    {
      "cell_type": "markdown",
      "metadata": {
        "id": "f_My9nmCnbhe"
      },
      "source": [
        "Making Prediction on some reviews from test set"
      ]
    },
    {
      "cell_type": "code",
      "metadata": {
        "colab": {
          "base_uri": "https://localhost:8080/"
        },
        "id": "0qCgZcPf9WSY",
        "outputId": "8423157f-8e0d-4abb-9d95-73bfb066f01c"
      },
      "source": [
        "random.seed(13)\r\n",
        "index = random.randrange(dataset.shape[0])\r\n",
        "print('Title :',dataset[0][index],'\\nReview :',dataset[1][index],'\\nRating :',dataset[2][index])\r\n",
        "print(\"True value :\", dataset[3][index])\r\n",
        "print(\"Prediction :\",classifier.predict(np.append(cv.transform([find_clean_text(dataset[0][index]+' '+dataset[1][index])]).toarray(),[[dataset[3][index]]],axis=1)))"
      ],
      "execution_count": 12,
      "outputs": [
        {
          "output_type": "stream",
          "text": [
            "Title : My 3 yr old grandson loves it! \n",
            "Review : My grandson really enjoys this tablet, ease of use and lots of different educational programs. Must remember to charge tablet everynight. \n",
            "Rating : 5.0\n",
            "True value : True\n",
            "Prediction : [1]\n"
          ],
          "name": "stdout"
        }
      ]
    },
    {
      "cell_type": "code",
      "metadata": {
        "colab": {
          "base_uri": "https://localhost:8080/"
        },
        "id": "kxayF8lbPmQs",
        "outputId": "b84efa16-82d3-4635-d392-b126571f9cca"
      },
      "source": [
        "index = random.randrange(dataset.shape[0])\r\n",
        "print('Title :',dataset[0][index],'\\nReview :',dataset[1][index],'\\nRating :',dataset[2][index])\r\n",
        "print(\"True value :\", dataset[3][index])\r\n",
        "print(\"Prediction :\",classifier.predict(np.append(cv.transform([find_clean_text(dataset[0][index]+' '+dataset[1][index])]).toarray(),[[dataset[3][index]]],axis=1)))"
      ],
      "execution_count": 13,
      "outputs": [
        {
          "output_type": "stream",
          "text": [
            "Title : Makes reading at night great \n",
            "Review : More positives than negatives on this one. Battery is great, readability is great. The backlight makes low light reading super. The only thing that would make this even better would be water resistance. \n",
            "Rating : 4.0\n",
            "True value : True\n",
            "Prediction : [1]\n"
          ],
          "name": "stdout"
        }
      ]
    },
    {
      "cell_type": "code",
      "metadata": {
        "colab": {
          "base_uri": "https://localhost:8080/"
        },
        "id": "rJbjz4CRPnCO",
        "outputId": "4fdf71a9-1eec-484d-dedb-1bc32ec93616"
      },
      "source": [
        "index = random.randrange(dataset.shape[0])\r\n",
        "print('Title :',dataset[0][index],'\\nReview :',dataset[1][index],'\\nRating :',dataset[2][index])\r\n",
        "print(\"True value :\", dataset[3][index])\r\n",
        "print(\"Prediction :\",classifier.predict(np.append(cv.transform([find_clean_text(dataset[0][index]+' '+dataset[1][index])]).toarray(),[[dataset[3][index]]],axis=1)))"
      ],
      "execution_count": 14,
      "outputs": [
        {
          "output_type": "stream",
          "text": [
            "Title : Hate Amazon \n",
            "Review : Hate Amazon! The app store doesn't have cool apps! \n",
            "Rating : 3.0\n",
            "True value : False\n",
            "Prediction : [0]\n"
          ],
          "name": "stdout"
        }
      ]
    }
  ]
}